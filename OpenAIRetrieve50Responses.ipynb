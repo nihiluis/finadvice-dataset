{
 "cells": [
  {
   "cell_type": "code",
   "execution_count": 2,
   "metadata": {},
   "outputs": [
    {
     "name": "stderr",
     "output_type": "stream",
     "text": [
      "/Users/pablo/.local/share/virtualenvs/finadvice-dataset-mdWLTC9R/lib/python3.11/site-packages/tqdm/auto.py:21: TqdmWarning: IProgress not found. Please update jupyter and ipywidgets. See https://ipywidgets.readthedocs.io/en/stable/user_install.html\n",
      "  from .autonotebook import tqdm as notebook_tqdm\n"
     ]
    }
   ],
   "source": [
    "import argilla as rg\n",
    "import json\n",
    "import os\n",
    "import time\n",
    "from datasets import load_dataset, load_from_disk, Dataset, load_metric, concatenate_datasets\n",
    "import pandas as pd\n",
    "import openai\n",
    "from datetime import datetime\n",
    "import pickle\n",
    "openai.api_key = os.environ[\"OPENAI_API_KEY\"]"
   ]
  },
  {
   "cell_type": "code",
   "execution_count": 9,
   "metadata": {},
   "outputs": [],
   "source": [
    "def complete_chatgpt(messages, model=\"gpt-3.5-turbo\", temperature=0, max_tokens=1024, sleep_seconds=1.2):\n",
    "    try:\n",
    "        response = openai.ChatCompletion.create(\n",
    "            model=model,\n",
    "            messages=messages,\n",
    "            temperature=temperature,\n",
    "            max_tokens=max_tokens,\n",
    "            top_p=1,\n",
    "            frequency_penalty=0,\n",
    "            presence_penalty=0,\n",
    "            stop=None,\n",
    "        )\n",
    "\n",
    "        if sleep_seconds > 0:\n",
    "            time.sleep(sleep_seconds)\n",
    "\n",
    "        return response[\"choices\"][0][\"message\"][\"content\"].strip()\n",
    "\n",
    "    except Exception as e:\n",
    "        print(e)\n",
    "        return \"\"\n",
    "\n",
    "\"\"\"\n",
    "possible roles: system, assistant, user\n",
    "\"\"\"\n",
    "def create_chatgpt_message(role: str, content: str):\n",
    "     return {\"role\": role, \"content\": content}"
   ]
  },
  {
   "cell_type": "code",
   "execution_count": 4,
   "metadata": {},
   "outputs": [],
   "source": [
    "system_message = create_chatgpt_message(\"system\", \"You are a financial advisor AI that aims to provide support for personal finance-related issues.\")\n",
    "def wrap_finadv_submission_call(text):\n",
    "    user_message = create_chatgpt_message(\"user\", text)\n",
    "    messages = [system_message, user_message]\n",
    "\n",
    "    return complete_chatgpt(messages, model=\"gpt-4\", temperature=0.7)"
   ]
  },
  {
   "cell_type": "code",
   "execution_count": 9,
   "metadata": {},
   "outputs": [],
   "source": [
    "# messages = [create_chatgpt_message(\"user\", \"what is the square root of 33?\")]\n",
    "# complete_chatgpt(messages, model=\"gpt-4\")"
   ]
  },
  {
   "cell_type": "code",
   "execution_count": 5,
   "metadata": {},
   "outputs": [
    {
     "data": {
      "text/html": [
       "<div>\n",
       "<style scoped>\n",
       "    .dataframe tbody tr th:only-of-type {\n",
       "        vertical-align: middle;\n",
       "    }\n",
       "\n",
       "    .dataframe tbody tr th {\n",
       "        vertical-align: top;\n",
       "    }\n",
       "\n",
       "    .dataframe thead th {\n",
       "        text-align: right;\n",
       "    }\n",
       "</style>\n",
       "<table border=\"1\" class=\"dataframe\">\n",
       "  <thead>\n",
       "    <tr style=\"text-align: right;\">\n",
       "      <th></th>\n",
       "      <th>id</th>\n",
       "      <th>title</th>\n",
       "      <th>created_utc</th>\n",
       "      <th>edited</th>\n",
       "      <th>selftext</th>\n",
       "    </tr>\n",
       "  </thead>\n",
       "  <tbody>\n",
       "    <tr>\n",
       "      <th>24270</th>\n",
       "      <td>wyo148</td>\n",
       "      <td>Can I adjust my W4 for my job in order to rece...</td>\n",
       "      <td>1661558036</td>\n",
       "      <td>1.661562e+09</td>\n",
       "      <td>EDIT: Thank you so much for your replies. I un...</td>\n",
       "    </tr>\n",
       "  </tbody>\n",
       "</table>\n",
       "</div>"
      ],
      "text/plain": [
       "           id                                              title  created_utc  \\\n",
       "24270  wyo148  Can I adjust my W4 for my job in order to rece...   1661558036   \n",
       "\n",
       "             edited                                           selftext  \n",
       "24270  1.661562e+09  EDIT: Thank you so much for your replies. I un...  "
      ]
     },
     "metadata": {},
     "output_type": "display_data"
    },
    {
     "data": {
      "text/plain": [
       "84944"
      ]
     },
     "execution_count": 5,
     "metadata": {},
     "output_type": "execute_result"
    }
   ],
   "source": [
    "df = pd.read_csv(\"./outdata/submissions.csv\")\n",
    "assert(len(df[\"id\"].unique()) == len(df))\n",
    "display(df.sample())\n",
    "len(df)"
   ]
  },
  {
   "cell_type": "code",
   "execution_count": 12,
   "metadata": {},
   "outputs": [
    {
     "data": {
      "text/html": [
       "<div>\n",
       "<style scoped>\n",
       "    .dataframe tbody tr th:only-of-type {\n",
       "        vertical-align: middle;\n",
       "    }\n",
       "\n",
       "    .dataframe tbody tr th {\n",
       "        vertical-align: top;\n",
       "    }\n",
       "\n",
       "    .dataframe thead th {\n",
       "        text-align: right;\n",
       "    }\n",
       "</style>\n",
       "<table border=\"1\" class=\"dataframe\">\n",
       "  <thead>\n",
       "    <tr style=\"text-align: right;\">\n",
       "      <th></th>\n",
       "      <th>id</th>\n",
       "      <th>title</th>\n",
       "      <th>created_utc</th>\n",
       "      <th>edited</th>\n",
       "      <th>selftext</th>\n",
       "    </tr>\n",
       "  </thead>\n",
       "  <tbody>\n",
       "    <tr>\n",
       "      <th>0</th>\n",
       "      <td>1006ury</td>\n",
       "      <td>Are financial advisors mainly for people who a...</td>\n",
       "      <td>1672530374</td>\n",
       "      <td>-1.0</td>\n",
       "      <td>I grew up as an only child with my dad working...</td>\n",
       "    </tr>\n",
       "    <tr>\n",
       "      <th>1</th>\n",
       "      <td>1005xmw</td>\n",
       "      <td>Looking for Thoughts from Strangers</td>\n",
       "      <td>1672527497</td>\n",
       "      <td>-1.0</td>\n",
       "      <td>Couple w/ Gross Income ~$127,000\\n\\nTake Home ...</td>\n",
       "    </tr>\n",
       "    <tr>\n",
       "      <th>2</th>\n",
       "      <td>1005hzw</td>\n",
       "      <td>Budgeting buying a vehicle for the first time</td>\n",
       "      <td>1672526170</td>\n",
       "      <td>-1.0</td>\n",
       "      <td>I'm in the military and am moving to Californi...</td>\n",
       "    </tr>\n",
       "    <tr>\n",
       "      <th>3</th>\n",
       "      <td>1005gb0</td>\n",
       "      <td>Questions about T-bill auction day</td>\n",
       "      <td>1672526027</td>\n",
       "      <td>-1.0</td>\n",
       "      <td>&amp;amp;#x200B;\\n\\n  \\nFor t-bill 912796YN3, anno...</td>\n",
       "    </tr>\n",
       "    <tr>\n",
       "      <th>4</th>\n",
       "      <td>1005azk</td>\n",
       "      <td>SLS Mortgage Pulled funds on the 30th of this ...</td>\n",
       "      <td>1672525594</td>\n",
       "      <td>-1.0</td>\n",
       "      <td>I woke up yesterday surprised that *Specialize...</td>\n",
       "    </tr>\n",
       "  </tbody>\n",
       "</table>\n",
       "</div>"
      ],
      "text/plain": [
       "        id                                              title  created_utc  \\\n",
       "0  1006ury  Are financial advisors mainly for people who a...   1672530374   \n",
       "1  1005xmw                Looking for Thoughts from Strangers   1672527497   \n",
       "2  1005hzw      Budgeting buying a vehicle for the first time   1672526170   \n",
       "3  1005gb0                 Questions about T-bill auction day   1672526027   \n",
       "4  1005azk  SLS Mortgage Pulled funds on the 30th of this ...   1672525594   \n",
       "\n",
       "   edited                                           selftext  \n",
       "0    -1.0  I grew up as an only child with my dad working...  \n",
       "1    -1.0  Couple w/ Gross Income ~$127,000\\n\\nTake Home ...  \n",
       "2    -1.0  I'm in the military and am moving to Californi...  \n",
       "3    -1.0  &amp;#x200B;\\n\\n  \\nFor t-bill 912796YN3, anno...  \n",
       "4    -1.0  I woke up yesterday surprised that *Specialize...  "
      ]
     },
     "execution_count": 12,
     "metadata": {},
     "output_type": "execute_result"
    }
   ],
   "source": [
    "df.head()"
   ]
  },
  {
   "cell_type": "code",
   "execution_count": 18,
   "metadata": {},
   "outputs": [],
   "source": [
    "# DO NOT OVERWRITE THIS ON A RUNNING KERNEL TO AVOID DELETING CHATGPT ANSWERS THAT HAVENT BEEN SAVED TO DISK YET\n",
    "# id_answer_map = {}"
   ]
  },
  {
   "cell_type": "code",
   "execution_count": 10,
   "metadata": {},
   "outputs": [],
   "source": [
    "def retrieve_chatgpt_answers_to_submissions(limit=10):\n",
    "    limit_counter = 0\n",
    "\n",
    "    for idx, row in df.iterrows():\n",
    "        if limit_counter >= limit:\n",
    "            print(f\"limit of {limit} reached\")\n",
    "            break\n",
    "\n",
    "        id = row[\"id\"]\n",
    "        if id in id_answer_map:\n",
    "            continue\n",
    "\n",
    "        print(f\"[{id}]🏃‍♂️ retrieving answer...\")\n",
    "        question_text = row[\"selftext\"]\n",
    "        answer_text = wrap_finadv_submission_call(question_text)\n",
    "        if answer_text == \"\":\n",
    "            print(\"chatgpt seems to have errored out, aborting\")\n",
    "            return\n",
    "\n",
    "        print(f\"[{id}]✅ retrieved answer\")\n",
    "        id_answer_map[id] = answer_text\n",
    "        \n",
    "        limit_counter += 1"
   ]
  },
  {
   "cell_type": "code",
   "execution_count": 11,
   "metadata": {},
   "outputs": [
    {
     "name": "stdout",
     "output_type": "stream",
     "text": [
      "[1000nwb]🏃‍♂️ retrieving answer...\n",
      "[1000nwb]✅ retrieved answer\n",
      "[1000joe]🏃‍♂️ retrieving answer...\n",
      "[1000joe]✅ retrieved answer\n",
      "[1000hsv]🏃‍♂️ retrieving answer...\n",
      "[1000hsv]✅ retrieved answer\n",
      "[1000eqi]🏃‍♂️ retrieving answer...\n",
      "[1000eqi]✅ retrieved answer\n",
      "[1000cmu]🏃‍♂️ retrieving answer...\n",
      "[1000cmu]✅ retrieved answer\n",
      "[1000c3c]🏃‍♂️ retrieving answer...\n",
      "[1000c3c]✅ retrieved answer\n",
      "[1000bax]🏃‍♂️ retrieving answer...\n",
      "[1000bax]✅ retrieved answer\n",
      "[1000997]🏃‍♂️ retrieving answer...\n",
      "[1000997]✅ retrieved answer\n",
      "[100053n]🏃‍♂️ retrieving answer...\n",
      "[100053n]✅ retrieved answer\n",
      "[10004nl]🏃‍♂️ retrieving answer...\n",
      "[10004nl]✅ retrieved answer\n",
      "[zzzo10]🏃‍♂️ retrieving answer...\n",
      "[zzzo10]✅ retrieved answer\n",
      "[zzzm70]🏃‍♂️ retrieving answer...\n",
      "[zzzm70]✅ retrieved answer\n",
      "[zzz9sg]🏃‍♂️ retrieving answer...\n",
      "[zzz9sg]✅ retrieved answer\n",
      "[zzz8wz]🏃‍♂️ retrieving answer...\n",
      "[zzz8wz]✅ retrieved answer\n",
      "[zzyo7a]🏃‍♂️ retrieving answer...\n",
      "[zzyo7a]✅ retrieved answer\n",
      "[zzyjbd]🏃‍♂️ retrieving answer...\n",
      "[zzyjbd]✅ retrieved answer\n",
      "[zzyff2]🏃‍♂️ retrieving answer...\n",
      "[zzyff2]✅ retrieved answer\n",
      "[zzya4l]🏃‍♂️ retrieving answer...\n",
      "[zzya4l]✅ retrieved answer\n",
      "[zzy7se]🏃‍♂️ retrieving answer...\n",
      "[zzy7se]✅ retrieved answer\n",
      "[zzy7hm]🏃‍♂️ retrieving answer...\n",
      "[zzy7hm]✅ retrieved answer\n",
      "[zzy6vk]🏃‍♂️ retrieving answer...\n",
      "[zzy6vk]✅ retrieved answer\n",
      "[zzy2ww]🏃‍♂️ retrieving answer...\n",
      "[zzy2ww]✅ retrieved answer\n",
      "[zzy0nt]🏃‍♂️ retrieving answer...\n",
      "[zzy0nt]✅ retrieved answer\n",
      "[zzy0fk]🏃‍♂️ retrieving answer...\n",
      "[zzy0fk]✅ retrieved answer\n",
      "[zzxz3n]🏃‍♂️ retrieving answer...\n",
      "[zzxz3n]✅ retrieved answer\n",
      "[zzxwuv]🏃‍♂️ retrieving answer...\n",
      "[zzxwuv]✅ retrieved answer\n",
      "[zzxwag]🏃‍♂️ retrieving answer...\n",
      "[zzxwag]✅ retrieved answer\n",
      "[zzxu9o]🏃‍♂️ retrieving answer...\n",
      "[zzxu9o]✅ retrieved answer\n",
      "[zzxqzp]🏃‍♂️ retrieving answer...\n",
      "[zzxqzp]✅ retrieved answer\n",
      "[zzxpik]🏃‍♂️ retrieving answer...\n",
      "[zzxpik]✅ retrieved answer\n",
      "[zzxpga]🏃‍♂️ retrieving answer...\n",
      "[zzxpga]✅ retrieved answer\n",
      "[zzxob6]🏃‍♂️ retrieving answer...\n",
      "[zzxob6]✅ retrieved answer\n",
      "[zzxnly]🏃‍♂️ retrieving answer...\n",
      "[zzxnly]✅ retrieved answer\n",
      "[zzxmna]🏃‍♂️ retrieving answer...\n",
      "[zzxmna]✅ retrieved answer\n",
      "[zzxi1b]🏃‍♂️ retrieving answer...\n",
      "[zzxi1b]✅ retrieved answer\n",
      "[zzx938]🏃‍♂️ retrieving answer...\n",
      "[zzx938]✅ retrieved answer\n",
      "[zzx8th]🏃‍♂️ retrieving answer...\n",
      "[zzx8th]✅ retrieved answer\n",
      "[zzx8h3]🏃‍♂️ retrieving answer...\n",
      "[zzx8h3]✅ retrieved answer\n",
      "[zzx77q]🏃‍♂️ retrieving answer...\n",
      "[zzx77q]✅ retrieved answer\n",
      "[zzwyvp]🏃‍♂️ retrieving answer...\n",
      "[zzwyvp]✅ retrieved answer\n",
      "[zzwqsi]🏃‍♂️ retrieving answer...\n",
      "[zzwqsi]✅ retrieved answer\n",
      "[zzwppl]🏃‍♂️ retrieving answer...\n",
      "[zzwppl]✅ retrieved answer\n",
      "[zzwlua]🏃‍♂️ retrieving answer...\n",
      "[zzwlua]✅ retrieved answer\n",
      "[zzwjjr]🏃‍♂️ retrieving answer...\n",
      "[zzwjjr]✅ retrieved answer\n",
      "[zzwiev]🏃‍♂️ retrieving answer...\n",
      "[zzwiev]✅ retrieved answer\n",
      "[zzw04b]🏃‍♂️ retrieving answer...\n",
      "[zzw04b]✅ retrieved answer\n",
      "[zzvxz0]🏃‍♂️ retrieving answer...\n",
      "[zzvxz0]✅ retrieved answer\n",
      "[zzvwt6]🏃‍♂️ retrieving answer...\n",
      "[zzvwt6]✅ retrieved answer\n",
      "[zzvvq0]🏃‍♂️ retrieving answer...\n",
      "[zzvvq0]✅ retrieved answer\n",
      "[zzvh59]🏃‍♂️ retrieving answer...\n",
      "[zzvh59]✅ retrieved answer\n",
      "limit of 50 reached\n"
     ]
    }
   ],
   "source": [
    "retrieve_chatgpt_answers_to_submissions(50)"
   ]
  },
  {
   "cell_type": "code",
   "execution_count": 38,
   "metadata": {},
   "outputs": [
    {
     "name": "stdout",
     "output_type": "stream",
     "text": [
      "[1004q1u]🏃‍♂️ retrieving answer...\n",
      "[1004q1u]✅ retrieved answer\n",
      "[1004k51]🏃‍♂️ retrieving answer...\n",
      "[1004k51]✅ retrieved answer\n",
      "[1004isk]🏃‍♂️ retrieving answer...\n",
      "[1004isk]✅ retrieved answer\n",
      "[1004djv]🏃‍♂️ retrieving answer...\n",
      "[1004djv]✅ retrieved answer\n",
      "[1004cue]🏃‍♂️ retrieving answer...\n",
      "[1004cue]✅ retrieved answer\n",
      "[10049g4]🏃‍♂️ retrieving answer...\n",
      "[10049g4]✅ retrieved answer\n",
      "[10048b4]🏃‍♂️ retrieving answer...\n",
      "[10048b4]✅ retrieved answer\n",
      "[10043f4]🏃‍♂️ retrieving answer...\n",
      "[10043f4]✅ retrieved answer\n",
      "[1003u24]🏃‍♂️ retrieving answer...\n",
      "[1003u24]✅ retrieved answer\n",
      "[1003rme]🏃‍♂️ retrieving answer...\n",
      "[1003rme]✅ retrieved answer\n",
      "[1003on7]🏃‍♂️ retrieving answer...\n",
      "[1003on7]✅ retrieved answer\n",
      "[1003o86]🏃‍♂️ retrieving answer...\n",
      "[1003o86]✅ retrieved answer\n",
      "[1003c7h]🏃‍♂️ retrieving answer...\n",
      "[1003c7h]✅ retrieved answer\n",
      "[1003955]🏃‍♂️ retrieving answer...\n",
      "[1003955]✅ retrieved answer\n",
      "[1002pwp]🏃‍♂️ retrieving answer...\n",
      "[1002pwp]✅ retrieved answer\n",
      "[1002h3v]🏃‍♂️ retrieving answer...\n",
      "[1002h3v]✅ retrieved answer\n",
      "[1002gw0]🏃‍♂️ retrieving answer...\n",
      "[1002gw0]✅ retrieved answer\n",
      "[1002gvw]🏃‍♂️ retrieving answer...\n",
      "[1002gvw]✅ retrieved answer\n",
      "[1002g4a]🏃‍♂️ retrieving answer...\n",
      "[1002g4a]✅ retrieved answer\n",
      "[1002fe9]🏃‍♂️ retrieving answer...\n",
      "[1002fe9]✅ retrieved answer\n",
      "[10028z9]🏃‍♂️ retrieving answer...\n",
      "[10028z9]✅ retrieved answer\n",
      "[10024zn]🏃‍♂️ retrieving answer...\n",
      "[10024zn]✅ retrieved answer\n",
      "[100245w]🏃‍♂️ retrieving answer...\n",
      "[100245w]✅ retrieved answer\n",
      "[10023cs]🏃‍♂️ retrieving answer...\n",
      "[10023cs]✅ retrieved answer\n",
      "[10020a3]🏃‍♂️ retrieving answer...\n",
      "[10020a3]✅ retrieved answer\n",
      "[1001yy6]🏃‍♂️ retrieving answer...\n",
      "[1001yy6]✅ retrieved answer\n",
      "[1001vpz]🏃‍♂️ retrieving answer...\n",
      "[1001vpz]✅ retrieved answer\n",
      "[1001urn]🏃‍♂️ retrieving answer...\n",
      "[1001urn]✅ retrieved answer\n",
      "[1001sp3]🏃‍♂️ retrieving answer...\n",
      "[1001sp3]✅ retrieved answer\n",
      "[1001or6]🏃‍♂️ retrieving answer...\n",
      "[1001or6]✅ retrieved answer\n",
      "[1001nbp]🏃‍♂️ retrieving answer...\n",
      "[1001nbp]✅ retrieved answer\n",
      "[1001gym]🏃‍♂️ retrieving answer...\n",
      "[1001gym]✅ retrieved answer\n",
      "[1001er0]🏃‍♂️ retrieving answer...\n",
      "[1001er0]✅ retrieved answer\n",
      "[10016s5]🏃‍♂️ retrieving answer...\n",
      "[10016s5]✅ retrieved answer\n",
      "[1000xzn]🏃‍♂️ retrieving answer...\n",
      "[1000xzn]✅ retrieved answer\n",
      "[1000vbk]🏃‍♂️ retrieving answer...\n",
      "[1000vbk]✅ retrieved answer\n",
      "[1000us5]🏃‍♂️ retrieving answer...\n",
      "[1000us5]✅ retrieved answer\n",
      "[1000tkt]🏃‍♂️ retrieving answer...\n",
      "[1000tkt]✅ retrieved answer\n",
      "[1000qdv]🏃‍♂️ retrieving answer...\n",
      "[1000qdv]✅ retrieved answer\n",
      "[1000obr]🏃‍♂️ retrieving answer...\n",
      "[1000obr]✅ retrieved answer\n",
      "limit of 40 reached\n"
     ]
    }
   ],
   "source": [
    "retrieve_chatgpt_answers_to_submissions(40)"
   ]
  },
  {
   "cell_type": "code",
   "execution_count": 15,
   "metadata": {},
   "outputs": [
    {
     "data": {
      "text/plain": [
       "100"
      ]
     },
     "execution_count": 15,
     "metadata": {},
     "output_type": "execute_result"
    }
   ],
   "source": [
    "len(id_answer_map)"
   ]
  },
  {
   "cell_type": "code",
   "execution_count": 20,
   "metadata": {},
   "outputs": [],
   "source": [
    "new_records = []\n",
    "for idx, row in df.iterrows():\n",
    "    id = row[\"id\"]\n",
    "    if not id in id_answer_map:\n",
    "        break\n",
    "\n",
    "    question_text = row[\"selftext\"]\n",
    "    answer_text = id_answer_map[id]\n",
    "\n",
    "    text = f\"### Human\\n{question_text}\\n\\n### Assistant\\n{answer_text}<eos_token>\"\n",
    "\n",
    "    new_records.append({\"id\": id, \"question\": question_text, \"answer\": answer_text, \"text\": text})\n",
    "\n",
    "qa_df = pd.DataFrame(new_records)\n",
    "qa_df.to_csv(\"./outdata/finadv50.csv\", index=False)"
   ]
  },
  {
   "cell_type": "code",
   "execution_count": 21,
   "metadata": {},
   "outputs": [
    {
     "data": {
      "text/html": [
       "<div>\n",
       "<style scoped>\n",
       "    .dataframe tbody tr th:only-of-type {\n",
       "        vertical-align: middle;\n",
       "    }\n",
       "\n",
       "    .dataframe tbody tr th {\n",
       "        vertical-align: top;\n",
       "    }\n",
       "\n",
       "    .dataframe thead th {\n",
       "        text-align: right;\n",
       "    }\n",
       "</style>\n",
       "<table border=\"1\" class=\"dataframe\">\n",
       "  <thead>\n",
       "    <tr style=\"text-align: right;\">\n",
       "      <th></th>\n",
       "      <th>id</th>\n",
       "      <th>question</th>\n",
       "      <th>answer</th>\n",
       "      <th>text</th>\n",
       "    </tr>\n",
       "  </thead>\n",
       "  <tbody>\n",
       "    <tr>\n",
       "      <th>16</th>\n",
       "      <td>10048b4</td>\n",
       "      <td>Hi everyone, I have been having some trouble l...</td>\n",
       "      <td>Hello! It's great to see your motivation and e...</td>\n",
       "      <td>### Human\\nHi everyone, I have been having som...</td>\n",
       "    </tr>\n",
       "  </tbody>\n",
       "</table>\n",
       "</div>"
      ],
      "text/plain": [
       "         id                                           question  \\\n",
       "16  10048b4  Hi everyone, I have been having some trouble l...   \n",
       "\n",
       "                                               answer  \\\n",
       "16  Hello! It's great to see your motivation and e...   \n",
       "\n",
       "                                                 text  \n",
       "16  ### Human\\nHi everyone, I have been having som...  "
      ]
     },
     "execution_count": 21,
     "metadata": {},
     "output_type": "execute_result"
    }
   ],
   "source": [
    "qa_df.sample()"
   ]
  },
  {
   "cell_type": "code",
   "execution_count": 22,
   "metadata": {},
   "outputs": [
    {
     "name": "stderr",
     "output_type": "stream",
     "text": [
      "Creating parquet from Arrow format: 100%|██████████| 1/1 [00:00<00:00, 180.22ba/s]\n",
      "Pushing dataset shards to the dataset hub: 100%|██████████| 1/1 [00:05<00:00,  5.40s/it]\n"
     ]
    }
   ],
   "source": [
    "ds = Dataset.from_pandas(qa_df)\n",
    "ds.push_to_hub(\"nihiluis/finadv100_v2\", private=True)"
   ]
  },
  {
   "cell_type": "code",
   "execution_count": 13,
   "metadata": {},
   "outputs": [],
   "source": [
    "now = datetime.now()\n",
    "now_str = now.strftime(\"%m-%d-%Y_%Hh%Mm%Ss\")\n",
    "\n",
    "with open(f\"./outdata/id_answer_map-{now_str}.pickle\", \"wb\") as handle:\n",
    "    pickle.dump(id_answer_map, handle, protocol=pickle.HIGHEST_PROTOCOL)\n"
   ]
  },
  {
   "cell_type": "code",
   "execution_count": 8,
   "metadata": {},
   "outputs": [
    {
     "name": "stdout",
     "output_type": "stream",
     "text": [
      "50\n"
     ]
    }
   ],
   "source": [
    "with open(\"./outdata/id_answer_map-08-22-2023_12h02m53s.pickle\", \"rb\") as handle:\n",
    "    id_answer_map = pickle.load(handle)\n",
    "    print(len(id_answer_map))\n",
    "    #display(test_map)"
   ]
  }
 ],
 "metadata": {
  "kernelspec": {
   "display_name": "finadvice-dataset-mdWLTC9R",
   "language": "python",
   "name": "python3"
  },
  "language_info": {
   "codemirror_mode": {
    "name": "ipython",
    "version": 3
   },
   "file_extension": ".py",
   "mimetype": "text/x-python",
   "name": "python",
   "nbconvert_exporter": "python",
   "pygments_lexer": "ipython3",
   "version": "3.11.4"
  },
  "orig_nbformat": 4
 },
 "nbformat": 4,
 "nbformat_minor": 2
}
