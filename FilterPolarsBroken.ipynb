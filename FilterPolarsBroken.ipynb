{
 "cells": [
  {
   "cell_type": "markdown",
   "metadata": {},
   "source": [
    "This notebook parses text from raw reddit submissions of a given subreddit and outputs it to the **outdata** directory."
   ]
  },
  {
   "cell_type": "code",
   "execution_count": 2,
   "metadata": {},
   "outputs": [],
   "source": [
    "import pandas as pd\n",
    "import polars as pl"
   ]
  },
  {
   "cell_type": "code",
   "execution_count": 15,
   "metadata": {},
   "outputs": [],
   "source": [
    "schema = {\n",
    "    \"created_utc\": pl.Int32,\n",
    "    \"id\": pl.Utf8,\n",
    "    \"is_self\": pl.Boolean,\n",
    "    \"title\": pl.Utf8,\n",
    "    \"selftext\": pl.Utf8,\n",
    "    \"subreddit\": pl.Utf8,\n",
    "}\n",
    "df = pl.read_ndjson(\"./rawdata/test.jsonl\", schema=schema)"
   ]
  },
  {
   "cell_type": "code",
   "execution_count": 16,
   "metadata": {},
   "outputs": [],
   "source": [
    "df = df.filter(\n",
    "    pl.col(\"is_self\") == True,\n",
    ")\n",
    "df = df.filter(~pl.col(\"selftext\").is_in([\"[deleted]\", \"[removed]\"]))\n",
    "df = df.filter(pl.col(\"created_utc\") > 1640995200) # 01/01/22 00:00\n",
    "df = df.sort(\"created_utc\", descending=True)\n",
    "df = df.with_columns(\n",
    "    pl.col(\"selftext\").str.replace(\"\\\\\\\\\", \"\\\\\")\n",
    ")"
   ]
  },
  {
   "cell_type": "code",
   "execution_count": 17,
   "metadata": {},
   "outputs": [
    {
     "data": {
      "text/plain": [
       "3"
      ]
     },
     "execution_count": 17,
     "metadata": {},
     "output_type": "execute_result"
    }
   ],
   "source": [
    "len(df)"
   ]
  },
  {
   "cell_type": "code",
   "execution_count": 14,
   "metadata": {},
   "outputs": [
    {
     "data": {
      "text/plain": [
       "\"It's been very tough for me. I'm going to have to let go of the car. It started with not being able to afford the insurance but now I know in order to get back on my feet and rebuild my credit which was in the 700s not even 4 months ago I need to let go of it. \\\\n\\\\nIs this possible? What methods are there to this? I will be talking to the bank on Tuesday and making an appointment but would like some advice her\""
      ]
     },
     "execution_count": 14,
     "metadata": {},
     "output_type": "execute_result"
    }
   ],
   "source": [
    "df[19][\"selftext\"].item()"
   ]
  },
  {
   "cell_type": "code",
   "execution_count": 18,
   "metadata": {},
   "outputs": [],
   "source": [
    "df.write_csv(\"./outdata/personalfinance_submissions_2022_TEST.csv\")"
   ]
  },
  {
   "cell_type": "code",
   "execution_count": null,
   "metadata": {},
   "outputs": [],
   "source": []
  }
 ],
 "metadata": {
  "kernelspec": {
   "display_name": "finadvice-dataset-mdWLTC9R",
   "language": "python",
   "name": "python3"
  },
  "language_info": {
   "codemirror_mode": {
    "name": "ipython",
    "version": 3
   },
   "file_extension": ".py",
   "mimetype": "text/x-python",
   "name": "python",
   "nbconvert_exporter": "python",
   "pygments_lexer": "ipython3",
   "version": "3.11.4"
  },
  "orig_nbformat": 4
 },
 "nbformat": 4,
 "nbformat_minor": 2
}
