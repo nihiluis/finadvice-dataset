{
 "cells": [
  {
   "cell_type": "markdown",
   "metadata": {},
   "source": [
    "This notebook uploads the csv from **filter.ipynb** to Argilla to filter non-relevant samples manually (from a financial advisor pov)."
   ]
  },
  {
   "cell_type": "code",
   "execution_count": 1,
   "metadata": {},
   "outputs": [
    {
     "name": "stderr",
     "output_type": "stream",
     "text": [
      "/Users/pablo/.local/share/virtualenvs/finadvice-dataset-mdWLTC9R/lib/python3.11/site-packages/argilla/client/client.py:152: UserWarning: You're connecting to Argilla Server 1.13.3 using a different client version (1.14.1).\n",
      "This may lead to potential compatibility issues during your experience.\n",
      "To ensure a seamless and optimized connection, we highly recommend aligning your client version with the server version.\n",
      "  warnings.warn(\n"
     ]
    }
   ],
   "source": [
    "import os\n",
    "import argilla as rg\n",
    "rg.init(api_url=os.environ[\"ARGILLA_URL\"], api_key=os.environ[\"ARGILLA_API_KEY\"])\n",
    "rg.set_workspace(os.environ[\"ARGILLA_WORKSPACE\"])"
   ]
  },
  {
   "cell_type": "code",
   "execution_count": 39,
   "metadata": {},
   "outputs": [
    {
     "data": {
      "text/html": [
       "<div>\n",
       "<style scoped>\n",
       "    .dataframe tbody tr th:only-of-type {\n",
       "        vertical-align: middle;\n",
       "    }\n",
       "\n",
       "    .dataframe tbody tr th {\n",
       "        vertical-align: top;\n",
       "    }\n",
       "\n",
       "    .dataframe thead th {\n",
       "        text-align: right;\n",
       "    }\n",
       "</style>\n",
       "<table border=\"1\" class=\"dataframe\">\n",
       "  <thead>\n",
       "    <tr style=\"text-align: right;\">\n",
       "      <th></th>\n",
       "      <th>id</th>\n",
       "      <th>title</th>\n",
       "      <th>created_utc</th>\n",
       "      <th>edited</th>\n",
       "      <th>selftext</th>\n",
       "    </tr>\n",
       "  </thead>\n",
       "  <tbody>\n",
       "    <tr>\n",
       "      <th>52274</th>\n",
       "      <td>u7z786</td>\n",
       "      <td>Should I downgrade my car to have money to inv...</td>\n",
       "      <td>1650468800</td>\n",
       "      <td>1.650471e+09</td>\n",
       "      <td>Context: I’m currently only 17 and am about to...</td>\n",
       "    </tr>\n",
       "  </tbody>\n",
       "</table>\n",
       "</div>"
      ],
      "text/plain": [
       "           id                                              title  created_utc  \\\n",
       "52274  u7z786  Should I downgrade my car to have money to inv...   1650468800   \n",
       "\n",
       "             edited                                           selftext  \n",
       "52274  1.650471e+09  Context: I’m currently only 17 and am about to...  "
      ]
     },
     "metadata": {},
     "output_type": "display_data"
    },
    {
     "data": {
      "text/plain": [
       "84944"
      ]
     },
     "execution_count": 39,
     "metadata": {},
     "output_type": "execute_result"
    }
   ],
   "source": [
    "\"\"\"\n",
    "schema = {\n",
    "    \"created_utc\": pl.Int32,\n",
    "    \"id\": pl.Utf8,\n",
    "    \"is_self\": pl.Boolean,\n",
    "    \"title\": pl.Utf8,\n",
    "    \"selftext\": pl.Utf8,\n",
    "    \"subreddit\": pl.Utf8,\n",
    "}\n",
    "\"\"\"\n",
    "\n",
    "import pandas as pd\n",
    "df = pd.read_csv(\"./outdata/submissions.csv\")\n",
    "display(df.sample())\n",
    "len(df)"
   ]
  },
  {
   "cell_type": "code",
   "execution_count": 40,
   "metadata": {},
   "outputs": [
    {
     "data": {
      "text/plain": [
       "73536"
      ]
     },
     "execution_count": 40,
     "metadata": {},
     "output_type": "execute_result"
    }
   ],
   "source": [
    "df = df[df[\"edited\"] == -1]\n",
    "len(df)"
   ]
  },
  {
   "cell_type": "code",
   "execution_count": 46,
   "metadata": {},
   "outputs": [
    {
     "name": "stderr",
     "output_type": "stream",
     "text": [
      "/var/folders/7d/4d1w6fjj4fgddrc8vppvmyv80000gn/T/ipykernel_74487/298426010.py:13: UserWarning: Some metadata values could exceed the max length. For those cases, values will be truncated by keeping only the last 128 characters. You can configure this length in the server with the ARGILLA_METADATA_FIELD_LENGTH environment variable. Note that, setting this too high may lead to Elastic performance issues.\n",
      "  rg.TextClassificationRecord(\n"
     ]
    }
   ],
   "source": [
    "records = []\n",
    "\n",
    "for idx, row in df[:1000].iterrows():\n",
    "    metadata = {\n",
    "        \"created_utc\": row[\"created_utc\"],\n",
    "        \"id\": row[\"id\"],\n",
    "        \"title\": row[\"title\"],\n",
    "    }\n",
    "\n",
    "    text = row[\"selftext\"]\n",
    "\n",
    "    records.append(\n",
    "        rg.TextClassificationRecord(\n",
    "            text=text,\n",
    "            metadata=metadata,\n",
    "            multi_label=True,\n",
    "        )\n",
    "    )"
   ]
  },
  {
   "cell_type": "code",
   "execution_count": 47,
   "metadata": {},
   "outputs": [
    {
     "data": {
      "text/plain": [
       "1000"
      ]
     },
     "execution_count": 47,
     "metadata": {},
     "output_type": "execute_result"
    }
   ],
   "source": [
    "len(records)"
   ]
  },
  {
   "cell_type": "code",
   "execution_count": 48,
   "metadata": {},
   "outputs": [
    {
     "data": {
      "text/html": [
       "<pre style=\"white-space:pre;overflow-x:auto;line-height:normal;font-family:Menlo,'DejaVu Sans Mono',consolas,'Courier New',monospace\">/Users/pablo/.local/share/virtualenvs/finadvice-dataset-mdWLTC9R/lib/python3.11/site-packages/rich/live.py:231: \n",
       "UserWarning: install \"ipywidgets\" for Jupyter support\n",
       "  warnings.warn('install \"ipywidgets\" for Jupyter support')\n",
       "</pre>\n"
      ],
      "text/plain": [
       "/Users/pablo/.local/share/virtualenvs/finadvice-dataset-mdWLTC9R/lib/python3.11/site-packages/rich/live.py:231: \n",
       "UserWarning: install \"ipywidgets\" for Jupyter support\n",
       "  warnings.warn('install \"ipywidgets\" for Jupyter support')\n"
      ]
     },
     "metadata": {},
     "output_type": "display_data"
    },
    {
     "data": {
      "text/html": [
       "<pre style=\"white-space:pre;overflow-x:auto;line-height:normal;font-family:Menlo,'DejaVu Sans Mono',consolas,'Courier New',monospace\"></pre>\n"
      ],
      "text/plain": []
     },
     "metadata": {},
     "output_type": "display_data"
    },
    {
     "data": {
      "text/html": [
       "<pre style=\"white-space:pre;overflow-x:auto;line-height:normal;font-family:Menlo,'DejaVu Sans Mono',consolas,'Courier New',monospace\">\n",
       "</pre>\n"
      ],
      "text/plain": [
       "\n"
      ]
     },
     "metadata": {},
     "output_type": "display_data"
    },
    {
     "data": {
      "text/html": [
       "<pre style=\"white-space:pre;overflow-x:auto;line-height:normal;font-family:Menlo,'DejaVu Sans Mono',consolas,'Courier New',monospace\"><span style=\"color: #008080; text-decoration-color: #008080; font-weight: bold\">1000</span> records logged to \n",
       "<a href=\"https://21uz3hkjad87iu41kj3heo982idak3i1378814oijda9s.nihiluis.com/datasets/shared/fin_advice_relevant_1000_2022_4\" target=\"_blank\"><span style=\"color: #0000ff; text-decoration-color: #0000ff; text-decoration: underline\">https://21uz3hkjad87iu41kj3heo982idak3i1378814oijda9s.nihiluis.com/datasets/shared/fin_advice_relevant_1000_2022_4</span></a>\n",
       "</pre>\n"
      ],
      "text/plain": [
       "\u001b[1;36m1000\u001b[0m records logged to \n",
       "\u001b]8;id=483407;https://21uz3hkjad87iu41kj3heo982idak3i1378814oijda9s.nihiluis.com/datasets/shared/fin_advice_relevant_1000_2022_4\u001b\\\u001b[4;94mhttps://21uz3hkjad87iu41kj3heo982idak3i1378814oijda9s.nihiluis.com/datasets/shared/fin_advice_relevant_1000_2022_4\u001b[0m\u001b]8;;\u001b\\\n"
      ]
     },
     "metadata": {},
     "output_type": "display_data"
    },
    {
     "data": {
      "text/plain": [
       "BulkResponse(dataset='fin_advice_relevant_1000_2022_4', processed=1000, failed=0)"
      ]
     },
     "execution_count": 48,
     "metadata": {},
     "output_type": "execute_result"
    }
   ],
   "source": [
    "rg.set_workspace(\"shared\")\n",
    "rg.log(records=records, name=\"fin_advice_relevant_1000_2022_4\", batch_size=100)"
   ]
  },
  {
   "cell_type": "code",
   "execution_count": null,
   "metadata": {},
   "outputs": [],
   "source": []
  }
 ],
 "metadata": {
  "kernelspec": {
   "display_name": "finadvice-dataset-mdWLTC9R",
   "language": "python",
   "name": "python3"
  },
  "language_info": {
   "codemirror_mode": {
    "name": "ipython",
    "version": 3
   },
   "file_extension": ".py",
   "mimetype": "text/x-python",
   "name": "python",
   "nbconvert_exporter": "python",
   "pygments_lexer": "ipython3",
   "version": "3.11.4"
  },
  "orig_nbformat": 4
 },
 "nbformat": 4,
 "nbformat_minor": 2
}
